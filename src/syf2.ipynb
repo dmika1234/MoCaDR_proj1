{
 "cells": [
  {
   "cell_type": "code",
   "execution_count": 2,
   "metadata": {
    "collapsed": true
   },
   "outputs": [],
   "source": [
    "import numpy as np\n",
    "\n",
    "from src.algorithm_functions import *\n",
    "import random"
   ]
  },
  {
   "cell_type": "code",
   "execution_count": 164,
   "outputs": [],
   "source": [
    "train_df, test_array = split_ratings('Datasets/ratings.csv')\n",
    "train_array = np.array(train_df)"
   ],
   "metadata": {
    "collapsed": false,
    "pycharm": {
     "name": "#%%\n"
    }
   }
  },
  {
   "cell_type": "code",
   "execution_count": 171,
   "outputs": [],
   "source": [
    "def perform_svd22(na_indx, train_array: np.ndarray, test_array: np.ndarray, r: int,\n",
    "                      max_iter: int = 100, min_diff: float = 0.0089):\n",
    "\n",
    "    Z_i = copy.deepcopy(train_array)\n",
    "    m = copy.deepcopy(train_array[~na_indx])\n",
    "    i = 0\n",
    "    diff = 10 ** 5\n",
    "\n",
    "    while (i < max_iter) & (min_diff < diff):\n",
    "        Z_i[~na_indx] = np.array(m).reshape(-1)\n",
    "        svd = TruncatedSVD(n_components=r)\n",
    "        svd.fit(Z_i)\n",
    "        Sigma2 = np.diag(svd.singular_values_)\n",
    "        VT = svd.components_\n",
    "        W = svd.transform(train_array) / svd.singular_values_\n",
    "        H = np.dot(Sigma2, VT)\n",
    "        Z_ii = np.dot(W, H)\n",
    "        diff = ((Z_ii - Z_i) ** 2).sum() / (Z_ii.shape[0] * Z_ii.shape[1])\n",
    "        Z_i = copy.deepcopy(Z_ii)\n",
    "        i += 1\n",
    "\n",
    "    return Z_ii"
   ],
   "metadata": {
    "collapsed": false,
    "pycharm": {
     "name": "#%%\n"
    }
   }
  },
  {
   "cell_type": "code",
   "execution_count": 174,
   "outputs": [],
   "source": [
    "train_array = fillna_means_weighted(train_df, 0.25)\n",
    "a = perform_svd22(train_df.isna(), train_array, test_array, r=8, min_diff=0.0086)"
   ],
   "metadata": {
    "collapsed": false,
    "pycharm": {
     "name": "#%%\n"
    }
   }
  },
  {
   "cell_type": "code",
   "execution_count": 176,
   "outputs": [
    {
     "data": {
      "text/plain": "0.8638018475024429"
     },
     "execution_count": 176,
     "metadata": {},
     "output_type": "execute_result"
    }
   ],
   "source": [
    "calc_rmse(test_array, a)"
   ],
   "metadata": {
    "collapsed": false,
    "pycharm": {
     "name": "#%%\n"
    }
   }
  },
  {
   "cell_type": "code",
   "execution_count": 182,
   "outputs": [
    {
     "data": {
      "text/plain": "0.9121871967702717"
     },
     "execution_count": 182,
     "metadata": {},
     "output_type": "execute_result"
    }
   ],
   "source": [
    "a[a > 5] = 5.0\n",
    "b = np.round(a)\n",
    "calc_rmse(test_array, b)"
   ],
   "metadata": {
    "collapsed": false,
    "pycharm": {
     "name": "#%%\n"
    }
   }
  },
  {
   "cell_type": "code",
   "execution_count": 131,
   "outputs": [],
   "source": [
    "lada = 0.1\n",
    "r = 30\n",
    "\n",
    "n, d = train_array.shape\n",
    "eta = 0.02\n",
    "min_diff = 1e-9\n",
    "max_iter = 10000\n",
    "W = np.matrix(np.full((n, r), 2/np.sqrt(r)), dtype=np.longdouble)\n",
    "H = np.matrix(np.full((r, d), 2/np.sqrt(r)), dtype=np.longdouble)\n",
    "possible_ix = np.argwhere(train_df.notnull().values).tolist()"
   ],
   "metadata": {
    "collapsed": false,
    "pycharm": {
     "name": "#%%\n"
    }
   }
  },
  {
   "cell_type": "code",
   "execution_count": 132,
   "outputs": [
    {
     "data": {
      "text/plain": "2.0296735096464884"
     },
     "execution_count": 132,
     "metadata": {},
     "output_type": "execute_result"
    }
   ],
   "source": [
    "W_prev = copy.deepcopy(W)\n",
    "H_prev = copy.deepcopy(H)\n",
    "possible_ix = np.argwhere(train_df.notnull().values).tolist()\n",
    "diff_W = min_diff + 1\n",
    "diff_H = min_diff + 1\n",
    "rmse_prev = 1000\n",
    "rmse = 0\n",
    "iter = 0\n",
    "\n",
    "while (iter < max_iter) & (min_diff < diff_W) & (min_diff < diff_H):\n",
    "    ix = random.sample(range(0, len(possible_ix)), 1)\n",
    "    i, j = possible_ix[ix[0]]\n",
    "    grad_w = -2 * ((train_array[i, j] - np.float64(W[i, :] * H[:, j])) * H[:, j]).T + 2 * lada * W[i, :]\n",
    "    grad_h = -2 * ((train_array[i, j] - np.float64(W[i, :] * H[:, j])) * W[i, :]).T + 2 * lada * H[:, j]\n",
    "    W[i, :] = W[i, :] - eta * grad_w\n",
    "    H[:, j] = H[:, j] - eta * grad_h\n",
    "    diff_W = np.abs(W - W_prev).sum() / (n * r)\n",
    "    diff_H = np.abs(H- H_prev).sum() / (r * d)\n",
    "    W_prev = copy.deepcopy(W)\n",
    "    H_prev = copy.deepcopy(H)\n",
    "    iter += 1\n",
    "\n",
    "Z_tilde = np.dot(W, H)\n",
    "calc_rmse_longdouble(test_array, Z_tilde)"
   ],
   "metadata": {
    "collapsed": false,
    "pycharm": {
     "name": "#%%\n"
    }
   }
  },
  {
   "cell_type": "code",
   "execution_count": 133,
   "outputs": [
    {
     "data": {
      "text/plain": "1877"
     },
     "execution_count": 133,
     "metadata": {},
     "output_type": "execute_result"
    }
   ],
   "source": [
    "iter"
   ],
   "metadata": {
    "collapsed": false,
    "pycharm": {
     "name": "#%%\n"
    }
   }
  },
  {
   "cell_type": "code",
   "execution_count": 163,
   "outputs": [
    {
     "data": {
      "text/plain": "(1.0142747145371265, 1758)"
     },
     "execution_count": 163,
     "metadata": {},
     "output_type": "execute_result"
    }
   ],
   "source": [
    "global_mean = train_df.mean().mean()\n",
    "W = np.matrix(np.full((n, r), np.sqrt(global_mean) / np.sqrt(r)), dtype=np.longdouble)\n",
    "H = np.matrix(np.full((r, d), np.sqrt(global_mean) / np.sqrt(r)), dtype=np.longdouble)\n",
    "a = perform_sgd(train_df, test_array, W, H, 80, 0.1, 0.01)\n",
    "a"
   ],
   "metadata": {
    "collapsed": false,
    "pycharm": {
     "name": "#%%\n"
    }
   }
  },
  {
   "cell_type": "code",
   "execution_count": 9,
   "outputs": [],
   "source": [
    "(min_diff < diff_W) & (min_diff < diff_H)"
   ],
   "metadata": {
    "collapsed": false,
    "pycharm": {
     "name": "#%%\n"
    }
   }
  },
  {
   "cell_type": "code",
   "execution_count": 150,
   "outputs": [],
   "source": [
    "def perform_sgd(train_df, test_array, init_W, init_H, r: int, lada: float, learning_rate: float,\n",
    "                max_iter: int = 10000, min_diff: float = 5e-10):\n",
    "\n",
    "    train_array = np.array(train_df)\n",
    "    n, d = train_array.shape\n",
    "    W = np.matrix(init_W, dtype=np.longdouble)\n",
    "    H = np.matrix(init_H, dtype=np.longdouble)\n",
    "    W_prev = copy.deepcopy(W)\n",
    "    H_prev = copy.deepcopy(H)\n",
    "    possible_ix = np.argwhere(train_df.notnull().values).tolist()\n",
    "    diff_W = min_diff + 1\n",
    "    diff_H = min_diff + 1\n",
    "    iter = 0\n",
    "\n",
    "    while (iter < max_iter) & (min_diff < diff_W) & (min_diff < diff_H):\n",
    "        ix = random.sample(range(0, len(possible_ix)), 1)\n",
    "        i, j = possible_ix[ix[0]]\n",
    "        grad_w = -2 * ((train_array[i, j] - np.float64(W[i, :] * H[:, j])) * H[:, j]).T + 2 * lada * W[i, :]\n",
    "        grad_h = -2 * ((train_array[i, j] - np.float64(W[i, :] * H[:, j])) * W[i, :]).T + 2 * lada * H[:, j]\n",
    "        W[i, :] = W[i, :] - learning_rate * grad_w\n",
    "        H[:, j] = H[:, j] - learning_rate * grad_h\n",
    "        diff_W = np.abs(W - W_prev).sum() / (n * r)\n",
    "        diff_H = np.abs(H - H_prev).sum() / (r * d)\n",
    "        W_prev = copy.deepcopy(W)\n",
    "        H_prev = copy.deepcopy(H)\n",
    "        iter += 1\n",
    "\n",
    "    Z_tilde = np.dot(W, H)\n",
    "    rmse = calc_rmse_longdouble(test_array, Z_tilde)\n",
    "\n",
    "    return rmse, iter"
   ],
   "metadata": {
    "collapsed": false,
    "pycharm": {
     "name": "#%%\n"
    }
   }
  },
  {
   "cell_type": "code",
   "execution_count": null,
   "outputs": [],
   "source": [],
   "metadata": {
    "collapsed": false,
    "pycharm": {
     "name": "#%%\n"
    }
   }
  }
 ],
 "metadata": {
  "kernelspec": {
   "display_name": "Python 3",
   "language": "python",
   "name": "python3"
  },
  "language_info": {
   "codemirror_mode": {
    "name": "ipython",
    "version": 2
   },
   "file_extension": ".py",
   "mimetype": "text/x-python",
   "name": "python",
   "nbconvert_exporter": "python",
   "pygments_lexer": "ipython2",
   "version": "2.7.6"
  }
 },
 "nbformat": 4,
 "nbformat_minor": 0
}