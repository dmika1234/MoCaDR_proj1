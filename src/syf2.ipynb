{
 "cells": [
  {
   "cell_type": "code",
   "execution_count": 1,
   "metadata": {
    "collapsed": true
   },
   "outputs": [],
   "source": [
    "import src.algorithm_functions as algs\n",
    "from src.algorithm_functions import *"
   ]
  },
  {
   "cell_type": "code",
   "execution_count": 2,
   "outputs": [],
   "source": [
    "max_r, alg = 3, 'svd2'\n",
    "func_name = 'perform_' + alg\n",
    "func_to_call = getattr(algs, func_name)\n",
    "\n",
    "# Loading and splitting data\n",
    "train_df, test_array = split_ratings('Datasets/ratings.csv')\n",
    "# DataFrames for storing results\n",
    "max_r = int(max_r)\n",
    "r_vec = np.arange(max_r) + 1\n",
    "results = pd.DataFrame({'r': r_vec, 'rmse_0': np.zeros(max_r), 'rmse_global_mean': np.zeros(max_r),\n",
    "                             'rmse_row_means': np.zeros(max_r), 'rmse_means_weighted': np.zeros(max_r)})\n",
    "results.to_csv('Results/results_' + alg + '.csv', index=False)\n",
    "\n",
    "\n",
    "train_0 = fillna_value(train_df, 0)\n",
    "global_mean = train_df.mean().mean()\n",
    "train_global_mean = fillna_value(train_df, global_mean)\n",
    "train_row_means = fillna_row_means(train_df)\n",
    "train_means_weighted = fillna_means_weighted(train_df, 0.4)\n",
    "r = 3"
   ],
   "metadata": {
    "collapsed": false,
    "pycharm": {
     "name": "#%%\n"
    }
   }
  },
  {
   "cell_type": "markdown",
   "source": [],
   "metadata": {
    "collapsed": false
   }
  },
  {
   "cell_type": "code",
   "execution_count": 3,
   "outputs": [],
   "source": [
    "train_comb = fillna_means_combined(train_df)"
   ],
   "metadata": {
    "collapsed": false,
    "pycharm": {
     "name": "#%%\n"
    }
   }
  },
  {
   "cell_type": "code",
   "execution_count": 4,
   "outputs": [
    {
     "data": {
      "text/plain": "0.9129748488353695"
     },
     "execution_count": 4,
     "metadata": {},
     "output_type": "execute_result"
    }
   ],
   "source": [
    "perform_svd1(train_comb, test_array, r=15)"
   ],
   "metadata": {
    "collapsed": false,
    "pycharm": {
     "name": "#%%\n"
    }
   }
  }
 ],
 "metadata": {
  "kernelspec": {
   "display_name": "Python 3",
   "language": "python",
   "name": "python3"
  },
  "language_info": {
   "codemirror_mode": {
    "name": "ipython",
    "version": 2
   },
   "file_extension": ".py",
   "mimetype": "text/x-python",
   "name": "python",
   "nbconvert_exporter": "python",
   "pygments_lexer": "ipython2",
   "version": "2.7.6"
  }
 },
 "nbformat": 4,
 "nbformat_minor": 0
}