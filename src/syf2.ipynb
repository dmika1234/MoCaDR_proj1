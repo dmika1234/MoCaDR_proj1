{
 "cells": [
  {
   "cell_type": "code",
   "execution_count": 70,
   "metadata": {
    "collapsed": true
   },
   "outputs": [],
   "source": [
    "import numpy as np\n",
    "\n",
    "from src.algorithm_functions import *\n",
    "import random"
   ]
  },
  {
   "cell_type": "code",
   "execution_count": 71,
   "outputs": [],
   "source": [
    "train_df, test_array = split_ratings('Datasets/ratings.csv')\n",
    "train_array = np.array(train_df)"
   ],
   "metadata": {
    "collapsed": false,
    "pycharm": {
     "name": "#%%\n"
    }
   }
  },
  {
   "cell_type": "code",
   "execution_count": 202,
   "outputs": [
    {
     "data": {
      "text/plain": "3.659163617767673"
     },
     "execution_count": 202,
     "metadata": {},
     "output_type": "execute_result"
    }
   ],
   "source": [
    "lada = 0.2\n",
    "eta = 0.1\n",
    "r = 50\n",
    "n, d = train_array.shape\n",
    "W = np.matrix(np.random.rand(n, r), dtype='int64')\n",
    "H = np.matrix(np.random.rand(r, d), dtype='int64')\n",
    "possible_ix = np.argwhere(train_df.notnull().values).tolist()\n",
    "\n",
    "for rep in np.arange(10000):\n",
    "    ix = random.sample(range(0, len(possible_ix)), 1)\n",
    "    i, j = possible_ix[ix[0]]\n",
    "    grad_w = 2 * ((train_array[i, j] - float(W[i, :] * H[:, j])) * H[:, j]).T + 2 * lada * W[i, :]\n",
    "    grad_h = 2 * ((train_array[i, j] - float(W[i, :] * H[:, j])) * W[i, :]).T + 2 * lada * H[:, j]\n",
    "    W[i, :] = W[i, :] - eta * grad_w\n",
    "    H[:, j] = H[:, j] - eta * grad_h\n",
    "\n",
    "Z_tilde = np.array(np.dot(W, H))\n",
    "calc_rmse(test_array, Z_tilde)"
   ],
   "metadata": {
    "collapsed": false,
    "pycharm": {
     "name": "#%%\n"
    }
   }
  },
  {
   "cell_type": "code",
   "execution_count": 167,
   "outputs": [
    {
     "data": {
      "text/plain": "(610, 9724)"
     },
     "execution_count": 167,
     "metadata": {},
     "output_type": "execute_result"
    }
   ],
   "source": [
    "test_array.shape"
   ],
   "metadata": {
    "collapsed": false,
    "pycharm": {
     "name": "#%%\n"
    }
   }
  }
 ],
 "metadata": {
  "kernelspec": {
   "display_name": "Python 3",
   "language": "python",
   "name": "python3"
  },
  "language_info": {
   "codemirror_mode": {
    "name": "ipython",
    "version": 2
   },
   "file_extension": ".py",
   "mimetype": "text/x-python",
   "name": "python",
   "nbconvert_exporter": "python",
   "pygments_lexer": "ipython2",
   "version": "2.7.6"
  }
 },
 "nbformat": 4,
 "nbformat_minor": 0
}