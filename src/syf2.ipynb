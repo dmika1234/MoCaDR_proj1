{
 "cells": [
  {
   "cell_type": "code",
   "execution_count": 1,
   "metadata": {
    "collapsed": true
   },
   "outputs": [],
   "source": [
    "import numpy as np\n",
    "import pandas as pd\n",
    "from src.splitting_data import train_df, test_df, data\n",
    "from src.algorithm_functions import perform_svd1"
   ]
  },
  {
   "cell_type": "code",
   "execution_count": 3,
   "outputs": [],
   "source": [
    "train_set = train_df\n",
    "test_set = test_df\n",
    "\n",
    "# Reshape dataset to wide format to have it matrix-like\n",
    "train_wide = train_set.pivot(index='userId', columns='movieId', values='rating')\n",
    "test_wide = test_set.pivot(index='userId', columns='movieId', values='rating')\n",
    "test_wide.sort_index(axis=1, inplace=True)\n",
    "train_wide.sort_index(axis=1, inplace=True)\n",
    "\n",
    "#            Rearranging training and test data sets to have columns from the whole data set\n",
    "\n",
    "# Movie ids in the whole dataset\n",
    "movies_ids = np.unique(data.movieId)\n",
    "# Movie ids in the training dataset\n",
    "movies_ids_train = np.unique(train_set.movieId)\n",
    "# Movie ids that are not in training data\n",
    "movies_ids_miss = np.setdiff1d(movies_ids, movies_ids_train)\n",
    "# Adding columns with movies not in train set but which appear in the whole data set\n",
    "if len(movies_ids_miss) != 0:\n",
    "    nas_array = np.empty((train_wide.shape[0], movies_ids_miss.shape[0],))\n",
    "    nas_array[:] = np.nan\n",
    "    missing_df = pd.DataFrame(nas_array)\n",
    "    missing_df.columns = movies_ids_miss\n",
    "    missing_df.index = train_wide.index\n",
    "    train_df = pd.concat([train_wide, missing_df], axis=1)\n",
    "    # Sorting column names to control positions of movieId\n",
    "    train_df.sort_index(axis=1, inplace=True)\n",
    "else:\n",
    "    pass\n",
    "\n",
    "# Same for test dataset\n",
    "movies_ids = np.unique(data.movieId)\n",
    "movies_ids_test = np.unique(test_set.movieId)\n",
    "movies_ids_miss2 = np.setdiff1d(movies_ids, movies_ids_test)\n",
    "if len(movies_ids_miss2) != 0:\n",
    "    nas_array2 = np.empty((test_wide.shape[0], movies_ids_miss2.shape[0],))\n",
    "    nas_array2[:] = np.nan\n",
    "    missing_df2 = pd.DataFrame(nas_array2)\n",
    "    missing_df2.columns = movies_ids_miss2\n",
    "    missing_df2.index = test_wide.index\n",
    "    test_df = pd.concat([test_wide, missing_df2], axis=1)\n",
    "    test_df.sort_index(axis=1, inplace=True)\n",
    "    test_array = np.array(test_df)\n",
    "else:\n",
    "    test_array = test_wide"
   ],
   "metadata": {
    "collapsed": false,
    "pycharm": {
     "name": "#%%\n"
    }
   }
  },
  {
   "cell_type": "code",
   "execution_count": 51,
   "outputs": [],
   "source": [
    "wages = np.array([0.5, 0.5])\n",
    "col_means = np.matrix(train_df.mean().values)\n",
    "row_means = np.matrix(train_df.mean(axis=1).values).T\n",
    "# Creating custom values to fill NaN in train_df\n",
    "fill_matrix = np.dot(wages[0] * row_means, wages[1] * col_means)\n",
    "fill_df = pd.DataFrame(fill_matrix)\n",
    "fill_df = fill_df.T.fillna(fill_df.mean(axis=1)).T\n",
    "fill_array = np.array(fill_df)"
   ],
   "metadata": {
    "collapsed": false,
    "pycharm": {
     "name": "#%%\n"
    }
   }
  },
  {
   "cell_type": "code",
   "execution_count": 49,
   "outputs": [
    {
     "data": {
      "text/plain": "0"
     },
     "execution_count": 49,
     "metadata": {},
     "output_type": "execute_result"
    }
   ],
   "source": [
    "fill_df.isna().sum().sum()"
   ],
   "metadata": {
    "collapsed": false,
    "pycharm": {
     "name": "#%%\n"
    }
   }
  },
  {
   "cell_type": "code",
   "execution_count": 54,
   "outputs": [
    {
     "data": {
      "text/plain": "(610, 9724)"
     },
     "execution_count": 54,
     "metadata": {},
     "output_type": "execute_result"
    }
   ],
   "source": [
    "na_indx = train_df.isna()\n",
    "test_array3 = np.array(train_df)\n",
    "fill_sub = np.array(fill_array[na_indx]).reshape(-1)\n",
    "wide_array[na_indx] = fill_sub"
   ],
   "metadata": {
    "collapsed": false,
    "pycharm": {
     "name": "#%%\n"
    }
   }
  },
  {
   "cell_type": "code",
   "execution_count": 85,
   "outputs": [
    {
     "ename": "KeyboardInterrupt",
     "evalue": "",
     "output_type": "error",
     "traceback": [
      "\u001B[1;31m---------------------------------------------------------------------------\u001B[0m",
      "\u001B[1;31mKeyboardInterrupt\u001B[0m                         Traceback (most recent call last)",
      "Input \u001B[1;32mIn [85]\u001B[0m, in \u001B[0;36m<cell line: 6>\u001B[1;34m()\u001B[0m\n\u001B[0;32m      3\u001B[0m col_means \u001B[38;5;241m=\u001B[39m col_means\u001B[38;5;241m.\u001B[39mreshape(\u001B[38;5;241m-\u001B[39m\u001B[38;5;241m1\u001B[39m)\n\u001B[0;32m      4\u001B[0m col_means \u001B[38;5;241m=\u001B[39m pd\u001B[38;5;241m.\u001B[39mSeries(col_means)\n\u001B[1;32m----> 6\u001B[0m train_df3 \u001B[38;5;241m=\u001B[39m \u001B[43mtrain_df\u001B[49m\u001B[38;5;241;43m.\u001B[39;49m\u001B[43mfillna\u001B[49m\u001B[43m(\u001B[49m\u001B[43mtrain_df\u001B[49m\u001B[38;5;241;43m.\u001B[39;49m\u001B[43mmean\u001B[49m\u001B[43m(\u001B[49m\u001B[43m)\u001B[49m\u001B[43m)\u001B[49m\n\u001B[0;32m      7\u001B[0m train_df3\n",
      "File \u001B[1;32m~\\AppData\\Local\\Programs\\Python\\Python310\\lib\\site-packages\\pandas\\util\\_decorators.py:311\u001B[0m, in \u001B[0;36mdeprecate_nonkeyword_arguments.<locals>.decorate.<locals>.wrapper\u001B[1;34m(*args, **kwargs)\u001B[0m\n\u001B[0;32m    305\u001B[0m \u001B[38;5;28;01mif\u001B[39;00m \u001B[38;5;28mlen\u001B[39m(args) \u001B[38;5;241m>\u001B[39m num_allow_args:\n\u001B[0;32m    306\u001B[0m     warnings\u001B[38;5;241m.\u001B[39mwarn(\n\u001B[0;32m    307\u001B[0m         msg\u001B[38;5;241m.\u001B[39mformat(arguments\u001B[38;5;241m=\u001B[39marguments),\n\u001B[0;32m    308\u001B[0m         \u001B[38;5;167;01mFutureWarning\u001B[39;00m,\n\u001B[0;32m    309\u001B[0m         stacklevel\u001B[38;5;241m=\u001B[39mstacklevel,\n\u001B[0;32m    310\u001B[0m     )\n\u001B[1;32m--> 311\u001B[0m \u001B[38;5;28;01mreturn\u001B[39;00m func(\u001B[38;5;241m*\u001B[39margs, \u001B[38;5;241m*\u001B[39m\u001B[38;5;241m*\u001B[39mkwargs)\n",
      "File \u001B[1;32m~\\AppData\\Local\\Programs\\Python\\Python310\\lib\\site-packages\\pandas\\core\\frame.py:5214\u001B[0m, in \u001B[0;36mDataFrame.fillna\u001B[1;34m(self, value, method, axis, inplace, limit, downcast)\u001B[0m\n\u001B[0;32m   5203\u001B[0m \u001B[38;5;129m@deprecate_nonkeyword_arguments\u001B[39m(version\u001B[38;5;241m=\u001B[39m\u001B[38;5;28;01mNone\u001B[39;00m, allowed_args\u001B[38;5;241m=\u001B[39m[\u001B[38;5;124m\"\u001B[39m\u001B[38;5;124mself\u001B[39m\u001B[38;5;124m\"\u001B[39m, \u001B[38;5;124m\"\u001B[39m\u001B[38;5;124mvalue\u001B[39m\u001B[38;5;124m\"\u001B[39m])\n\u001B[0;32m   5204\u001B[0m \u001B[38;5;129m@doc\u001B[39m(NDFrame\u001B[38;5;241m.\u001B[39mfillna, \u001B[38;5;241m*\u001B[39m\u001B[38;5;241m*\u001B[39m_shared_doc_kwargs)\n\u001B[0;32m   5205\u001B[0m \u001B[38;5;28;01mdef\u001B[39;00m \u001B[38;5;21mfillna\u001B[39m(\n\u001B[1;32m   (...)\u001B[0m\n\u001B[0;32m   5212\u001B[0m     downcast\u001B[38;5;241m=\u001B[39m\u001B[38;5;28;01mNone\u001B[39;00m,\n\u001B[0;32m   5213\u001B[0m ) \u001B[38;5;241m-\u001B[39m\u001B[38;5;241m>\u001B[39m DataFrame \u001B[38;5;241m|\u001B[39m \u001B[38;5;28;01mNone\u001B[39;00m:\n\u001B[1;32m-> 5214\u001B[0m     \u001B[38;5;28;01mreturn\u001B[39;00m \u001B[38;5;28;43msuper\u001B[39;49m\u001B[43m(\u001B[49m\u001B[43m)\u001B[49m\u001B[38;5;241;43m.\u001B[39;49m\u001B[43mfillna\u001B[49m\u001B[43m(\u001B[49m\n\u001B[0;32m   5215\u001B[0m \u001B[43m        \u001B[49m\u001B[43mvalue\u001B[49m\u001B[38;5;241;43m=\u001B[39;49m\u001B[43mvalue\u001B[49m\u001B[43m,\u001B[49m\n\u001B[0;32m   5216\u001B[0m \u001B[43m        \u001B[49m\u001B[43mmethod\u001B[49m\u001B[38;5;241;43m=\u001B[39;49m\u001B[43mmethod\u001B[49m\u001B[43m,\u001B[49m\n\u001B[0;32m   5217\u001B[0m \u001B[43m        \u001B[49m\u001B[43maxis\u001B[49m\u001B[38;5;241;43m=\u001B[39;49m\u001B[43maxis\u001B[49m\u001B[43m,\u001B[49m\n\u001B[0;32m   5218\u001B[0m \u001B[43m        \u001B[49m\u001B[43minplace\u001B[49m\u001B[38;5;241;43m=\u001B[39;49m\u001B[43minplace\u001B[49m\u001B[43m,\u001B[49m\n\u001B[0;32m   5219\u001B[0m \u001B[43m        \u001B[49m\u001B[43mlimit\u001B[49m\u001B[38;5;241;43m=\u001B[39;49m\u001B[43mlimit\u001B[49m\u001B[43m,\u001B[49m\n\u001B[0;32m   5220\u001B[0m \u001B[43m        \u001B[49m\u001B[43mdowncast\u001B[49m\u001B[38;5;241;43m=\u001B[39;49m\u001B[43mdowncast\u001B[49m\u001B[43m,\u001B[49m\n\u001B[0;32m   5221\u001B[0m \u001B[43m    \u001B[49m\u001B[43m)\u001B[49m\n",
      "File \u001B[1;32m~\\AppData\\Local\\Programs\\Python\\Python310\\lib\\site-packages\\pandas\\core\\generic.py:6493\u001B[0m, in \u001B[0;36mNDFrame.fillna\u001B[1;34m(self, value, method, axis, inplace, limit, downcast)\u001B[0m\n\u001B[0;32m   6491\u001B[0m             \u001B[38;5;28;01mcontinue\u001B[39;00m\n\u001B[0;32m   6492\u001B[0m         downcast_k \u001B[38;5;241m=\u001B[39m downcast \u001B[38;5;28;01mif\u001B[39;00m \u001B[38;5;129;01mnot\u001B[39;00m is_dict \u001B[38;5;28;01melse\u001B[39;00m downcast\u001B[38;5;241m.\u001B[39mget(k)\n\u001B[1;32m-> 6493\u001B[0m         result[k] \u001B[38;5;241m=\u001B[39m result[k]\u001B[38;5;241m.\u001B[39mfillna(v, limit\u001B[38;5;241m=\u001B[39mlimit, downcast\u001B[38;5;241m=\u001B[39mdowncast_k)\n\u001B[0;32m   6494\u001B[0m     \u001B[38;5;28;01mreturn\u001B[39;00m result \u001B[38;5;28;01mif\u001B[39;00m \u001B[38;5;129;01mnot\u001B[39;00m inplace \u001B[38;5;28;01melse\u001B[39;00m \u001B[38;5;28;01mNone\u001B[39;00m\n\u001B[0;32m   6496\u001B[0m \u001B[38;5;28;01melif\u001B[39;00m \u001B[38;5;129;01mnot\u001B[39;00m is_list_like(value):\n",
      "File \u001B[1;32m~\\AppData\\Local\\Programs\\Python\\Python310\\lib\\site-packages\\pandas\\core\\frame.py:3655\u001B[0m, in \u001B[0;36mDataFrame.__setitem__\u001B[1;34m(self, key, value)\u001B[0m\n\u001B[0;32m   3652\u001B[0m     \u001B[38;5;28mself\u001B[39m\u001B[38;5;241m.\u001B[39m_setitem_array([key], value)\n\u001B[0;32m   3653\u001B[0m \u001B[38;5;28;01melse\u001B[39;00m:\n\u001B[0;32m   3654\u001B[0m     \u001B[38;5;66;03m# set column\u001B[39;00m\n\u001B[1;32m-> 3655\u001B[0m     \u001B[38;5;28;43mself\u001B[39;49m\u001B[38;5;241;43m.\u001B[39;49m\u001B[43m_set_item\u001B[49m\u001B[43m(\u001B[49m\u001B[43mkey\u001B[49m\u001B[43m,\u001B[49m\u001B[43m \u001B[49m\u001B[43mvalue\u001B[49m\u001B[43m)\u001B[49m\n",
      "File \u001B[1;32m~\\AppData\\Local\\Programs\\Python\\Python310\\lib\\site-packages\\pandas\\core\\frame.py:3845\u001B[0m, in \u001B[0;36mDataFrame._set_item\u001B[1;34m(self, key, value)\u001B[0m\n\u001B[0;32m   3842\u001B[0m         \u001B[38;5;28;01mif\u001B[39;00m \u001B[38;5;28misinstance\u001B[39m(existing_piece, DataFrame):\n\u001B[0;32m   3843\u001B[0m             value \u001B[38;5;241m=\u001B[39m np\u001B[38;5;241m.\u001B[39mtile(value, (\u001B[38;5;28mlen\u001B[39m(existing_piece\u001B[38;5;241m.\u001B[39mcolumns), \u001B[38;5;241m1\u001B[39m))\u001B[38;5;241m.\u001B[39mT\n\u001B[1;32m-> 3845\u001B[0m \u001B[38;5;28;43mself\u001B[39;49m\u001B[38;5;241;43m.\u001B[39;49m\u001B[43m_set_item_mgr\u001B[49m\u001B[43m(\u001B[49m\u001B[43mkey\u001B[49m\u001B[43m,\u001B[49m\u001B[43m \u001B[49m\u001B[43mvalue\u001B[49m\u001B[43m)\u001B[49m\n",
      "File \u001B[1;32m~\\AppData\\Local\\Programs\\Python\\Python310\\lib\\site-packages\\pandas\\core\\frame.py:3804\u001B[0m, in \u001B[0;36mDataFrame._set_item_mgr\u001B[1;34m(self, key, value)\u001B[0m\n\u001B[0;32m   3802\u001B[0m     \u001B[38;5;28mself\u001B[39m\u001B[38;5;241m.\u001B[39m_mgr\u001B[38;5;241m.\u001B[39minsert(\u001B[38;5;28mlen\u001B[39m(\u001B[38;5;28mself\u001B[39m\u001B[38;5;241m.\u001B[39m_info_axis), key, value)\n\u001B[0;32m   3803\u001B[0m \u001B[38;5;28;01melse\u001B[39;00m:\n\u001B[1;32m-> 3804\u001B[0m     \u001B[38;5;28;43mself\u001B[39;49m\u001B[38;5;241;43m.\u001B[39;49m\u001B[43m_iset_item_mgr\u001B[49m\u001B[43m(\u001B[49m\u001B[43mloc\u001B[49m\u001B[43m,\u001B[49m\u001B[43m \u001B[49m\u001B[43mvalue\u001B[49m\u001B[43m)\u001B[49m\n\u001B[0;32m   3806\u001B[0m \u001B[38;5;66;03m# check if we are modifying a copy\u001B[39;00m\n\u001B[0;32m   3807\u001B[0m \u001B[38;5;66;03m# try to set first as we want an invalid\u001B[39;00m\n\u001B[0;32m   3808\u001B[0m \u001B[38;5;66;03m# value exception to occur first\u001B[39;00m\n\u001B[0;32m   3809\u001B[0m \u001B[38;5;28;01mif\u001B[39;00m \u001B[38;5;28mlen\u001B[39m(\u001B[38;5;28mself\u001B[39m):\n",
      "File \u001B[1;32m~\\AppData\\Local\\Programs\\Python\\Python310\\lib\\site-packages\\pandas\\core\\frame.py:3794\u001B[0m, in \u001B[0;36mDataFrame._iset_item_mgr\u001B[1;34m(self, loc, value, inplace)\u001B[0m\n\u001B[0;32m   3790\u001B[0m \u001B[38;5;28;01mdef\u001B[39;00m \u001B[38;5;21m_iset_item_mgr\u001B[39m(\n\u001B[0;32m   3791\u001B[0m     \u001B[38;5;28mself\u001B[39m, loc: \u001B[38;5;28mint\u001B[39m \u001B[38;5;241m|\u001B[39m \u001B[38;5;28mslice\u001B[39m \u001B[38;5;241m|\u001B[39m np\u001B[38;5;241m.\u001B[39mndarray, value, inplace: \u001B[38;5;28mbool\u001B[39m \u001B[38;5;241m=\u001B[39m \u001B[38;5;28;01mFalse\u001B[39;00m\n\u001B[0;32m   3792\u001B[0m ) \u001B[38;5;241m-\u001B[39m\u001B[38;5;241m>\u001B[39m \u001B[38;5;28;01mNone\u001B[39;00m:\n\u001B[0;32m   3793\u001B[0m     \u001B[38;5;66;03m# when called from _set_item_mgr loc can be anything returned from get_loc\u001B[39;00m\n\u001B[1;32m-> 3794\u001B[0m     \u001B[38;5;28;43mself\u001B[39;49m\u001B[38;5;241;43m.\u001B[39;49m\u001B[43m_mgr\u001B[49m\u001B[38;5;241;43m.\u001B[39;49m\u001B[43miset\u001B[49m\u001B[43m(\u001B[49m\u001B[43mloc\u001B[49m\u001B[43m,\u001B[49m\u001B[43m \u001B[49m\u001B[43mvalue\u001B[49m\u001B[43m,\u001B[49m\u001B[43m \u001B[49m\u001B[43minplace\u001B[49m\u001B[38;5;241;43m=\u001B[39;49m\u001B[43minplace\u001B[49m\u001B[43m)\u001B[49m\n\u001B[0;32m   3795\u001B[0m     \u001B[38;5;28mself\u001B[39m\u001B[38;5;241m.\u001B[39m_clear_item_cache()\n",
      "File \u001B[1;32m~\\AppData\\Local\\Programs\\Python\\Python310\\lib\\site-packages\\pandas\\core\\internals\\managers.py:1141\u001B[0m, in \u001B[0;36mBlockManager.iset\u001B[1;34m(self, loc, value, inplace)\u001B[0m\n\u001B[0;32m   1139\u001B[0m             removed_blknos\u001B[38;5;241m.\u001B[39mappend(blkno_l)\n\u001B[0;32m   1140\u001B[0m         \u001B[38;5;28;01melse\u001B[39;00m:\n\u001B[1;32m-> 1141\u001B[0m             \u001B[43mblk\u001B[49m\u001B[38;5;241;43m.\u001B[39;49m\u001B[43mdelete\u001B[49m\u001B[43m(\u001B[49m\u001B[43mblk_locs\u001B[49m\u001B[43m)\u001B[49m\n\u001B[0;32m   1142\u001B[0m             \u001B[38;5;28mself\u001B[39m\u001B[38;5;241m.\u001B[39m_blklocs[blk\u001B[38;5;241m.\u001B[39mmgr_locs\u001B[38;5;241m.\u001B[39mindexer] \u001B[38;5;241m=\u001B[39m np\u001B[38;5;241m.\u001B[39marange(\u001B[38;5;28mlen\u001B[39m(blk))\n\u001B[0;32m   1144\u001B[0m \u001B[38;5;28;01mif\u001B[39;00m \u001B[38;5;28mlen\u001B[39m(removed_blknos):\n\u001B[0;32m   1145\u001B[0m     \u001B[38;5;66;03m# Remove blocks & update blknos accordingly\u001B[39;00m\n",
      "File \u001B[1;32m~\\AppData\\Local\\Programs\\Python\\Python310\\lib\\site-packages\\pandas\\core\\internals\\blocks.py:388\u001B[0m, in \u001B[0;36mBlock.delete\u001B[1;34m(self, loc)\u001B[0m\n\u001B[0;32m    379\u001B[0m \u001B[38;5;124;03m\"\"\"\u001B[39;00m\n\u001B[0;32m    380\u001B[0m \u001B[38;5;124;03mDelete given loc(-s) from block in-place.\u001B[39;00m\n\u001B[0;32m    381\u001B[0m \u001B[38;5;124;03m\"\"\"\u001B[39;00m\n\u001B[0;32m    382\u001B[0m \u001B[38;5;66;03m# Argument 1 to \"delete\" has incompatible type \"Union[ndarray[Any, Any],\u001B[39;00m\n\u001B[0;32m    383\u001B[0m \u001B[38;5;66;03m# ExtensionArray]\"; expected \"Union[_SupportsArray[dtype[Any]],\u001B[39;00m\n\u001B[0;32m    384\u001B[0m \u001B[38;5;66;03m# Sequence[_SupportsArray[dtype[Any]]], Sequence[Sequence\u001B[39;00m\n\u001B[0;32m    385\u001B[0m \u001B[38;5;66;03m# [_SupportsArray[dtype[Any]]]], Sequence[Sequence[Sequence[\u001B[39;00m\n\u001B[0;32m    386\u001B[0m \u001B[38;5;66;03m# _SupportsArray[dtype[Any]]]]], Sequence[Sequence[Sequence[Sequence[\u001B[39;00m\n\u001B[0;32m    387\u001B[0m \u001B[38;5;66;03m# _SupportsArray[dtype[Any]]]]]]]\"  [arg-type]\u001B[39;00m\n\u001B[1;32m--> 388\u001B[0m \u001B[38;5;28mself\u001B[39m\u001B[38;5;241m.\u001B[39mvalues \u001B[38;5;241m=\u001B[39m \u001B[43mnp\u001B[49m\u001B[38;5;241;43m.\u001B[39;49m\u001B[43mdelete\u001B[49m\u001B[43m(\u001B[49m\u001B[38;5;28;43mself\u001B[39;49m\u001B[38;5;241;43m.\u001B[39;49m\u001B[43mvalues\u001B[49m\u001B[43m,\u001B[49m\u001B[43m \u001B[49m\u001B[43mloc\u001B[49m\u001B[43m,\u001B[49m\u001B[43m \u001B[49m\u001B[38;5;241;43m0\u001B[39;49m\u001B[43m)\u001B[49m  \u001B[38;5;66;03m# type: ignore[arg-type]\u001B[39;00m\n\u001B[0;32m    389\u001B[0m \u001B[38;5;28mself\u001B[39m\u001B[38;5;241m.\u001B[39mmgr_locs \u001B[38;5;241m=\u001B[39m \u001B[38;5;28mself\u001B[39m\u001B[38;5;241m.\u001B[39m_mgr_locs\u001B[38;5;241m.\u001B[39mdelete(loc)\n\u001B[0;32m    390\u001B[0m \u001B[38;5;28;01mtry\u001B[39;00m:\n",
      "File \u001B[1;32m<__array_function__ internals>:180\u001B[0m, in \u001B[0;36mdelete\u001B[1;34m(*args, **kwargs)\u001B[0m\n",
      "File \u001B[1;32m~\\AppData\\Local\\Programs\\Python\\Python310\\lib\\site-packages\\numpy\\lib\\function_base.py:5133\u001B[0m, in \u001B[0;36mdelete\u001B[1;34m(arr, obj, axis)\u001B[0m\n\u001B[0;32m   5130\u001B[0m     slobj[axis] \u001B[38;5;241m=\u001B[39m keep\n\u001B[0;32m   5131\u001B[0m     new \u001B[38;5;241m=\u001B[39m arr[\u001B[38;5;28mtuple\u001B[39m(slobj)]\n\u001B[1;32m-> 5133\u001B[0m \u001B[38;5;28;01mif\u001B[39;00m wrap:\n\u001B[0;32m   5134\u001B[0m     \u001B[38;5;28;01mreturn\u001B[39;00m wrap(new)\n\u001B[0;32m   5135\u001B[0m \u001B[38;5;28;01melse\u001B[39;00m:\n",
      "\u001B[1;31mKeyboardInterrupt\u001B[0m: "
     ]
    }
   ],
   "source": [
    "col_means = pd.DataFrame(col_means)\n",
    "col_means = np.array(col_means.fillna(-1))\n",
    "col_means = col_means.reshape(-1)\n",
    "col_means = pd.Series(col_means)\n",
    "\n",
    "train_df3 = train_df.fillna(train_df.mean())\n",
    "train_df3"
   ],
   "metadata": {
    "collapsed": false,
    "pycharm": {
     "name": "#%%\n"
    }
   }
  },
  {
   "cell_type": "code",
   "execution_count": 72,
   "outputs": [
    {
     "data": {
      "text/plain": "pandas.core.series.Series"
     },
     "execution_count": 72,
     "metadata": {},
     "output_type": "execute_result"
    }
   ],
   "source": [
    "type(train_df.mean())"
   ],
   "metadata": {
    "collapsed": false,
    "pycharm": {
     "name": "#%%\n"
    }
   }
  }
 ],
 "metadata": {
  "kernelspec": {
   "display_name": "Python 3",
   "language": "python",
   "name": "python3"
  },
  "language_info": {
   "codemirror_mode": {
    "name": "ipython",
    "version": 2
   },
   "file_extension": ".py",
   "mimetype": "text/x-python",
   "name": "python",
   "nbconvert_exporter": "python",
   "pygments_lexer": "ipython2",
   "version": "2.7.6"
  }
 },
 "nbformat": 4,
 "nbformat_minor": 0
}