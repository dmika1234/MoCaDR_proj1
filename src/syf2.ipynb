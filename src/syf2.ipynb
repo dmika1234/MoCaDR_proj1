{
 "cells": [
  {
   "cell_type": "code",
   "execution_count": 1,
   "metadata": {
    "collapsed": true
   },
   "outputs": [],
   "source": [
    "import numpy as np\n",
    "\n",
    "from src.algorithm_functions import *\n",
    "import random"
   ]
  },
  {
   "cell_type": "code",
   "execution_count": 2,
   "outputs": [],
   "source": [
    "train_df, test_array = split_ratings('Datasets/ratings.csv')\n",
    "train_array = np.array(train_df)"
   ],
   "metadata": {
    "collapsed": false,
    "pycharm": {
     "name": "#%%\n"
    }
   }
  },
  {
   "cell_type": "code",
   "execution_count": 185,
   "outputs": [],
   "source": [
    "lada = 0\n",
    "r = 30\n",
    "\n",
    "\n",
    "n, d = train_array.shape\n",
    "eta = 0.02\n",
    "\n",
    "W = np.matrix(np.full((n, r), 1/np.sqrt(r)), dtype=np.longdouble)\n",
    "H = np.matrix(np.full((r, d), 1/np.sqrt(r)), dtype=np.longdouble)\n",
    "possible_ix = np.argwhere(train_df.notnull().values).tolist()"
   ],
   "metadata": {
    "collapsed": false,
    "pycharm": {
     "name": "#%%\n"
    }
   }
  },
  {
   "cell_type": "code",
   "execution_count": 186,
   "outputs": [
    {
     "data": {
      "text/plain": "1.0013203661240102"
     },
     "execution_count": 186,
     "metadata": {},
     "output_type": "execute_result"
    }
   ],
   "source": [
    "\n",
    "for rep in np.arange(50000):\n",
    "    ix = random.sample(range(0, len(possible_ix)), 1)\n",
    "    i, j = possible_ix[ix[0]]\n",
    "    grad_w = -2 * ((train_array[i, j] - np.float64(W[i, :] * H[:, j])) * H[:, j]).T + 2 * lada * W[i, :]\n",
    "    grad_h = -2 * ((train_array[i, j] - np.float64(W[i, :] * H[:, j])) * W[i, :]).T + 2 * lada * H[:, j]\n",
    "    W[i, :] = W[i, :] - eta * grad_w\n",
    "    H[:, j] = H[:, j] - eta * grad_h\n",
    "\n",
    "Z_tilde = np.array(np.dot(W, H))\n",
    "calc_rmse(test_array, Z_tilde)\n"
   ],
   "metadata": {
    "collapsed": false,
    "pycharm": {
     "name": "#%%\n"
    }
   }
  },
  {
   "cell_type": "code",
   "execution_count": 101,
   "outputs": [
    {
     "data": {
      "text/plain": "matrix([[0.08658457, 0.08658457, 0.08658457, 0.08658457, 0.08658457,\n         0.08658457, 0.08658457, 0.08658457, 0.08658457, 0.08658457,\n         0.08658457, 0.08658457, 0.08658457, 0.08658457, 0.08658457,\n         0.08658457, 0.08658457, 0.08658457, 0.08658457, 0.08658457,\n         0.08658457, 0.08658457, 0.08658457, 0.08658457, 0.08658457,\n         0.08658457, 0.08658457, 0.08658457, 0.08658457, 0.08658457,\n         0.08658457, 0.08658457, 0.08658457, 0.08658457, 0.08658457,\n         0.08658457, 0.08658457, 0.08658457, 0.08658457, 0.08658457,\n         0.08658457, 0.08658457, 0.08658457, 0.08658457, 0.08658457,\n         0.08658457, 0.08658457, 0.08658457, 0.08658457, 0.08658457]])"
     },
     "execution_count": 101,
     "metadata": {},
     "output_type": "execute_result"
    }
   ],
   "source": [
    "possible_ix = np.argwhere(train_df.notnull().values).tolist()\n",
    "ix = random.sample(range(0, len(possible_ix)), 1)\n",
    "i, j = possible_ix[ix[0]]\n",
    "\n",
    "((train_array[i, j] - np.float64(W[i, :] * H[:, j])) * H[:, j]).T"
   ],
   "metadata": {
    "collapsed": false,
    "pycharm": {
     "name": "#%%\n"
    }
   }
  },
  {
   "cell_type": "code",
   "execution_count": 129,
   "outputs": [
    {
     "data": {
      "text/plain": "2.45922142072974"
     },
     "execution_count": 129,
     "metadata": {},
     "output_type": "execute_result"
    }
   ],
   "source": [
    "calc_rmse(test_array, Z_tilde)"
   ],
   "metadata": {
    "collapsed": false,
    "pycharm": {
     "name": "#%%\n"
    }
   }
  },
  {
   "cell_type": "code",
   "execution_count": 189,
   "outputs": [
    {
     "data": {
      "text/plain": "1.0383011213342985"
     },
     "execution_count": 189,
     "metadata": {},
     "output_type": "execute_result"
    }
   ],
   "source": [
    "calc_rmse(test_array, np.round(Z_tilde))"
   ],
   "metadata": {
    "collapsed": false,
    "pycharm": {
     "name": "#%%\n"
    }
   }
  },
  {
   "cell_type": "code",
   "execution_count": 191,
   "outputs": [
    {
     "data": {
      "text/plain": "7.0"
     },
     "execution_count": 191,
     "metadata": {},
     "output_type": "execute_result"
    }
   ],
   "source": [
    "np.max(np.round(Z_tilde))"
   ],
   "metadata": {
    "collapsed": false,
    "pycharm": {
     "name": "#%%\n"
    }
   }
  },
  {
   "cell_type": "code",
   "execution_count": null,
   "outputs": [],
   "source": [],
   "metadata": {
    "collapsed": false,
    "pycharm": {
     "name": "#%%\n"
    }
   }
  }
 ],
 "metadata": {
  "kernelspec": {
   "display_name": "Python 3",
   "language": "python",
   "name": "python3"
  },
  "language_info": {
   "codemirror_mode": {
    "name": "ipython",
    "version": 2
   },
   "file_extension": ".py",
   "mimetype": "text/x-python",
   "name": "python",
   "nbconvert_exporter": "python",
   "pygments_lexer": "ipython2",
   "version": "2.7.6"
  }
 },
 "nbformat": 4,
 "nbformat_minor": 0
}