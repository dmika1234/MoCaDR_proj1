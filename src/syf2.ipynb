{
 "cells": [
  {
   "cell_type": "code",
   "execution_count": 1,
   "metadata": {
    "collapsed": true
   },
   "outputs": [],
   "source": [
    "import src.algorithm_functions as algs\n",
    "from src.algorithm_functions import *\n",
    "from tqdm import tqdm\n",
    "import argparse"
   ]
  },
  {
   "cell_type": "code",
   "execution_count": 2,
   "outputs": [],
   "source": [
    "max_r, alg = 3, 'svd2'\n",
    "func_name = 'perform_' + alg\n",
    "func_to_call = getattr(algs, func_name)\n",
    "\n",
    "# Loading and splitting data\n",
    "train_df, test_array = split_ratings('Datasets/ratings.csv')\n",
    "# DataFrames for storing results\n",
    "max_r = int(max_r)\n",
    "r_vec = np.arange(max_r) + 1\n",
    "results = pd.DataFrame({'r': r_vec, 'rmse_0': np.zeros(max_r), 'rmse_global_mean': np.zeros(max_r),\n",
    "                             'rmse_row_means': np.zeros(max_r), 'rmse_means_weighted': np.zeros(max_r)})\n",
    "results.to_csv('Results/results_' + alg + '.csv', index=False)\n",
    "\n",
    "\n",
    "train_0 = fillna_value(train_df, 0)\n",
    "global_mean = train_df.mean().mean()\n",
    "train_global_mean = fillna_value(train_df, global_mean)\n",
    "train_row_means = fillna_row_means(train_df)\n",
    "train_means_weighted = fillna_means_weighted(train_df, 0.4)\n",
    "r = 3"
   ],
   "metadata": {
    "collapsed": false,
    "pycharm": {
     "name": "#%%\n"
    }
   }
  },
  {
   "cell_type": "code",
   "execution_count": 5,
   "outputs": [
    {
     "name": "stderr",
     "output_type": "stream",
     "text": [
      "100%|██████████| 3/3 [00:31<00:00, 10.54s/it]\n"
     ]
    }
   ],
   "source": [
    "if func_name == 'perform_svd2':\n",
    "    for ix, r in enumerate(tqdm(r_vec)):\n",
    "        if r % 10 == 1:\n",
    "            pd.read_csv('Results/results_' + alg + '.csv')\n",
    "        results.loc[ix, 'rmse_0'] = func_to_call(train_df.isna(), train_0, test_array,\n",
    "                                                 r=r)[0]\n",
    "        results.loc[ix, 'rmse_global_mean'] = func_to_call(train_df.isna(), train_global_mean, test_array,\n",
    "                                                           r=r)[0]\n",
    "        results.loc[ix, 'rmse_row_means'] = func_to_call(train_df.isna(), train_row_means, test_array,\n",
    "                                                         r=r)[0]\n",
    "        results.loc[ix, 'rmse_means_weighted'] = func_to_call(train_df.isna(), train_means_weighted, test_array,\n",
    "                                                              r=r)[0]\n",
    "        if r % 10 == 0:\n",
    "            results.to_csv('Results/results_' + alg + '.csv', index=False)"
   ],
   "metadata": {
    "collapsed": false,
    "pycharm": {
     "name": "#%%\n"
    }
   }
  },
  {
   "cell_type": "code",
   "execution_count": 9,
   "outputs": [
    {
     "data": {
      "text/plain": "(0.9746646336936376, 10)"
     },
     "execution_count": 9,
     "metadata": {},
     "output_type": "execute_result"
    }
   ],
   "source": [
    "func_to_call(train_df.isna(), train_global_mean, test_array, r=r)"
   ],
   "metadata": {
    "collapsed": false,
    "pycharm": {
     "name": "#%%\n"
    }
   }
  },
  {
   "cell_type": "code",
   "execution_count": 6,
   "outputs": [
    {
     "data": {
      "text/plain": "   r    rmse_0  rmse_global_mean  rmse_row_means  rmse_means_weighted\n0  1  3.080082          0.972470        0.905408             0.883810\n1  2  2.990603          0.982205        0.899057             0.878174\n2  3  2.931319          0.974665        0.895979             0.876646",
      "text/html": "<div>\n<style scoped>\n    .dataframe tbody tr th:only-of-type {\n        vertical-align: middle;\n    }\n\n    .dataframe tbody tr th {\n        vertical-align: top;\n    }\n\n    .dataframe thead th {\n        text-align: right;\n    }\n</style>\n<table border=\"1\" class=\"dataframe\">\n  <thead>\n    <tr style=\"text-align: right;\">\n      <th></th>\n      <th>r</th>\n      <th>rmse_0</th>\n      <th>rmse_global_mean</th>\n      <th>rmse_row_means</th>\n      <th>rmse_means_weighted</th>\n    </tr>\n  </thead>\n  <tbody>\n    <tr>\n      <th>0</th>\n      <td>1</td>\n      <td>3.080082</td>\n      <td>0.972470</td>\n      <td>0.905408</td>\n      <td>0.883810</td>\n    </tr>\n    <tr>\n      <th>1</th>\n      <td>2</td>\n      <td>2.990603</td>\n      <td>0.982205</td>\n      <td>0.899057</td>\n      <td>0.878174</td>\n    </tr>\n    <tr>\n      <th>2</th>\n      <td>3</td>\n      <td>2.931319</td>\n      <td>0.974665</td>\n      <td>0.895979</td>\n      <td>0.876646</td>\n    </tr>\n  </tbody>\n</table>\n</div>"
     },
     "execution_count": 6,
     "metadata": {},
     "output_type": "execute_result"
    }
   ],
   "source": [
    "results"
   ],
   "metadata": {
    "collapsed": false,
    "pycharm": {
     "name": "#%%\n"
    }
   }
  },
  {
   "cell_type": "markdown",
   "source": [],
   "metadata": {
    "collapsed": false
   }
  }
 ],
 "metadata": {
  "kernelspec": {
   "display_name": "Python 3",
   "language": "python",
   "name": "python3"
  },
  "language_info": {
   "codemirror_mode": {
    "name": "ipython",
    "version": 2
   },
   "file_extension": ".py",
   "mimetype": "text/x-python",
   "name": "python",
   "nbconvert_exporter": "python",
   "pygments_lexer": "ipython2",
   "version": "2.7.6"
  }
 },
 "nbformat": 4,
 "nbformat_minor": 0
}