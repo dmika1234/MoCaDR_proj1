{
 "cells": [
  {
   "cell_type": "code",
   "execution_count": 1,
   "metadata": {
    "collapsed": true
   },
   "outputs": [],
   "source": [
    "import pandas as pd\n",
    "import numpy as np"
   ]
  },
  {
   "cell_type": "markdown",
   "source": [
    "# SVD1"
   ],
   "metadata": {
    "collapsed": false,
    "pycharm": {
     "name": "#%% md\n"
    }
   }
  },
  {
   "cell_type": "markdown",
   "source": [
    "## Choosing r based on RMSE with weighted means imputation"
   ],
   "metadata": {
    "collapsed": false,
    "pycharm": {
     "name": "#%% md\n"
    }
   }
  },
  {
   "cell_type": "code",
   "source": [
    "results_diffr_svd1 = pd.read_csv('../Results/rmse_diffr_svd1_weighted.csv')\n",
    "best_r = results_diffr_svd1.iloc[results_diffr_svd1['RMSE'].idxmin()]['r']\n",
    "best_rmse = results_diffr_svd1['RMSE'].min()\n",
    "print(f'Best RMSE={\"%.5f\" % best_rmse} obtained for r={int(best_r)}')"
   ],
   "metadata": {
    "collapsed": false,
    "pycharm": {
     "name": "#%%\n"
    }
   },
   "execution_count": 8,
   "outputs": [
    {
     "name": "stdout",
     "output_type": "stream",
     "text": [
      "Best RMSE=0.87441 obtained for r=16\n"
     ]
    }
   ]
  },
  {
   "cell_type": "markdown",
   "source": [
    "## Choosing weights for imputation method"
   ],
   "metadata": {
    "collapsed": false,
    "pycharm": {
     "name": "#%% md\n"
    }
   }
  },
  {
   "cell_type": "code",
   "execution_count": 11,
   "outputs": [
    {
     "name": "stdout",
     "output_type": "stream",
     "text": [
      "Best RMSE=0.87303 obtained for Column weight=0.4\n"
     ]
    }
   ],
   "source": [
    "results_diff_weights_svd1 = pd.read_csv('../Results/rmse_diff_weight_svd1_weighted.csv')\n",
    "best_col = results_diff_weights_svd1.iloc[results_diff_weights_svd1['RMSE'].idxmin()]['Column weight']\n",
    "best_rmse2 = results_diff_weights_svd1['RMSE'].min()\n",
    "print(f'Best RMSE={\"%.5f\" % best_rmse2} obtained for Column weight={best_col}')"
   ],
   "metadata": {
    "collapsed": false,
    "pycharm": {
     "name": "#%%\n"
    }
   }
  }
 ],
 "metadata": {
  "kernelspec": {
   "display_name": "Python 3",
   "language": "python",
   "name": "python3"
  },
  "language_info": {
   "codemirror_mode": {
    "name": "ipython",
    "version": 2
   },
   "file_extension": ".py",
   "mimetype": "text/x-python",
   "name": "python",
   "nbconvert_exporter": "python",
   "pygments_lexer": "ipython2",
   "version": "2.7.6"
  }
 },
 "nbformat": 4,
 "nbformat_minor": 0
}