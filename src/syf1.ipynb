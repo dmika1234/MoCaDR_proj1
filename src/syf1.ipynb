{
 "cells": [
  {
   "cell_type": "code",
   "execution_count": 2,
   "metadata": {
    "collapsed": true
   },
   "outputs": [],
   "source": [
    "import src.algorithm_functions as algs\n",
    "from src.algorithm_functions import *\n",
    "from tqdm import tqdm\n",
    "import argparse"
   ]
  },
  {
   "cell_type": "code",
   "execution_count": 6,
   "outputs": [],
   "source": [
    "train_df = pd.read_csv('../Datasets/train_df.csv')\n",
    "test_array = np.loadtxt('../Datasets/test_array.csv', delimiter=',')\n",
    "train_array_weighted = fillna_means_weighted(train_df, 0.4)\n",
    "train_array = np.array(train_df)"
   ],
   "metadata": {
    "collapsed": false,
    "pycharm": {
     "name": "#%%\n"
    }
   }
  },
  {
   "cell_type": "code",
   "execution_count": 70,
   "outputs": [],
   "source": [
    "train_array = np.array(train_df)\n",
    "eta = 0.002\n",
    "alpha = 1\n",
    "r = 16\n",
    "n, d = train_array.shape\n",
    "W = np.full([n, r], 1/d)\n",
    "H = np.full([r, d], 1/d)\n",
    "na_ix = np.isnan(train_array)\n",
    "train_array[na_ix] = 0\n",
    "for i in range(2000):\n",
    "    E = train_array - np.dot(W, H)\n",
    "    W_prim = W - 2 * eta * (alpha * W - np.dot(E, H.T))\n",
    "    H_prim = H - 2 * eta * (alpha * H - np.dot(W.T, E))\n",
    "    W = W_prim\n",
    "    H = H_prim\n"
   ],
   "metadata": {
    "collapsed": false,
    "pycharm": {
     "name": "#%%\n"
    }
   }
  },
  {
   "cell_type": "code",
   "execution_count": 72,
   "outputs": [
    {
     "data": {
      "text/plain": "array([[5.01498598e-04, 2.76091866e-04, 1.15147508e-04, ...,\n        5.26967566e-07, 5.26967566e-07, 2.10658327e-06],\n       [5.18678217e-05, 2.85549825e-05, 1.19092066e-05, ...,\n        5.45019664e-08, 5.45019664e-08, 2.17874757e-07],\n       [1.26136465e-05, 6.94423718e-06, 2.89617951e-06, ...,\n        1.32542396e-08, 1.32542396e-08, 5.29845881e-08],\n       ...,\n       [1.02996726e-03, 5.67031662e-04, 2.36487528e-04, ...,\n        1.08227489e-06, 1.08227489e-06, 4.32645636e-06],\n       [7.16498275e-05, 3.94456429e-05, 1.64512904e-05, ...,\n        7.52886157e-08, 7.52886157e-08, 3.00970587e-07],\n       [1.30375752e-03, 7.17762417e-04, 2.99351643e-04, ...,\n        1.36996978e-06, 1.36996978e-06, 5.47653329e-06]])"
     },
     "execution_count": 72,
     "metadata": {},
     "output_type": "execute_result"
    }
   ],
   "source": [
    "np.dot(W, H)"
   ],
   "metadata": {
    "collapsed": false,
    "pycharm": {
     "name": "#%%\n"
    }
   }
  },
  {
   "cell_type": "code",
   "execution_count": 7,
   "outputs": [
    {
     "data": {
      "text/plain": "(0.8717685145116123, 4)"
     },
     "execution_count": 7,
     "metadata": {},
     "output_type": "execute_result"
    }
   ],
   "source": [
    "res_svd2 = perform_svd2(train_df.isna(), train_array_weighted, test_array, r=16, max_iter=20)\n",
    "res_svd2"
   ],
   "metadata": {
    "collapsed": false,
    "pycharm": {
     "name": "#%%\n"
    }
   }
  }
 ],
 "metadata": {
  "kernelspec": {
   "display_name": "Python 3",
   "language": "python",
   "name": "python3"
  },
  "language_info": {
   "codemirror_mode": {
    "name": "ipython",
    "version": 2
   },
   "file_extension": ".py",
   "mimetype": "text/x-python",
   "name": "python",
   "nbconvert_exporter": "python",
   "pygments_lexer": "ipython2",
   "version": "2.7.6"
  }
 },
 "nbformat": 4,
 "nbformat_minor": 0
}