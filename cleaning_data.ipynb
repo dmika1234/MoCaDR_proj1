{
 "cells": [
  {
   "cell_type": "code",
   "execution_count": 1,
   "metadata": {
    "collapsed": true
   },
   "outputs": [],
   "source": [
    "import numpy as np\n",
    "import pandas as pd\n",
    "from sklearn.decomposition import TruncatedSVD, randomized_svd"
   ]
  },
  {
   "cell_type": "code",
   "execution_count": 2,
   "outputs": [
    {
     "data": {
      "text/plain": "movieId  1       2       3       8       10      11      16      19      \\\nuserId                                                                    \n35          NaN     NaN     NaN     NaN     NaN     4.0     NaN     NaN   \n46          5.0     NaN     NaN     NaN     3.0     NaN     NaN     NaN   \n226         3.5     3.0     3.5     NaN     4.0     NaN     4.5     3.5   \n390         NaN     NaN     NaN     NaN     NaN     NaN     NaN     NaN   \n405         NaN     NaN     NaN     NaN     NaN     NaN     4.0     NaN   \n432         2.5     4.0     NaN     NaN     NaN     NaN     NaN     2.0   \n435         NaN     NaN     NaN     NaN     NaN     NaN     NaN     NaN   \n436         4.0     4.0     NaN     3.0     NaN     NaN     NaN     NaN   \n563         NaN     2.5     NaN     NaN     NaN     NaN     NaN     NaN   \n583         NaN     NaN     NaN     NaN     NaN     NaN     NaN     NaN   \n\nmovieId  21      22      ...  128832  129354  132660  133419  134368  134393  \\\nuserId                   ...                                                   \n35          5.0     NaN  ...     NaN     NaN     NaN     NaN     NaN     NaN   \n46          NaN     NaN  ...     NaN     NaN     NaN     NaN     NaN     NaN   \n226         NaN     2.0  ...     NaN     NaN     NaN     NaN     NaN     NaN   \n390         NaN     NaN  ...     NaN     NaN     NaN     NaN     NaN     NaN   \n405         NaN     NaN  ...     NaN     NaN     NaN     NaN     NaN     NaN   \n432         NaN     NaN  ...     NaN     NaN     NaN     NaN     NaN     NaN   \n435         NaN     NaN  ...     NaN     NaN     NaN     NaN     NaN     NaN   \n436         NaN     NaN  ...     NaN     NaN     NaN     NaN     NaN     NaN   \n563         NaN     NaN  ...     3.5     3.0     3.5     NaN     4.5     4.5   \n583         NaN     NaN  ...     NaN     NaN     NaN     4.0     NaN     NaN   \n\nmovieId  134853  135887  139747  149354  \nuserId                                   \n35          NaN     NaN     NaN     NaN  \n46          NaN     NaN     NaN     NaN  \n226         NaN     NaN     NaN     NaN  \n390         NaN     NaN     NaN     NaN  \n405         NaN     NaN     NaN     NaN  \n432         NaN     NaN     NaN     NaN  \n435         NaN     NaN     NaN     NaN  \n436         NaN     NaN     NaN     NaN  \n563         4.0     3.5     3.5     NaN  \n583         NaN     NaN     NaN     4.0  \n\n[10 rows x 1079 columns]",
      "text/html": "<div>\n<style scoped>\n    .dataframe tbody tr th:only-of-type {\n        vertical-align: middle;\n    }\n\n    .dataframe tbody tr th {\n        vertical-align: top;\n    }\n\n    .dataframe thead th {\n        text-align: right;\n    }\n</style>\n<table border=\"1\" class=\"dataframe\">\n  <thead>\n    <tr style=\"text-align: right;\">\n      <th>movieId</th>\n      <th>1</th>\n      <th>2</th>\n      <th>3</th>\n      <th>8</th>\n      <th>10</th>\n      <th>11</th>\n      <th>16</th>\n      <th>19</th>\n      <th>21</th>\n      <th>22</th>\n      <th>...</th>\n      <th>128832</th>\n      <th>129354</th>\n      <th>132660</th>\n      <th>133419</th>\n      <th>134368</th>\n      <th>134393</th>\n      <th>134853</th>\n      <th>135887</th>\n      <th>139747</th>\n      <th>149354</th>\n    </tr>\n    <tr>\n      <th>userId</th>\n      <th></th>\n      <th></th>\n      <th></th>\n      <th></th>\n      <th></th>\n      <th></th>\n      <th></th>\n      <th></th>\n      <th></th>\n      <th></th>\n      <th></th>\n      <th></th>\n      <th></th>\n      <th></th>\n      <th></th>\n      <th></th>\n      <th></th>\n      <th></th>\n      <th></th>\n      <th></th>\n      <th></th>\n    </tr>\n  </thead>\n  <tbody>\n    <tr>\n      <th>35</th>\n      <td>NaN</td>\n      <td>NaN</td>\n      <td>NaN</td>\n      <td>NaN</td>\n      <td>NaN</td>\n      <td>4.0</td>\n      <td>NaN</td>\n      <td>NaN</td>\n      <td>5.0</td>\n      <td>NaN</td>\n      <td>...</td>\n      <td>NaN</td>\n      <td>NaN</td>\n      <td>NaN</td>\n      <td>NaN</td>\n      <td>NaN</td>\n      <td>NaN</td>\n      <td>NaN</td>\n      <td>NaN</td>\n      <td>NaN</td>\n      <td>NaN</td>\n    </tr>\n    <tr>\n      <th>46</th>\n      <td>5.0</td>\n      <td>NaN</td>\n      <td>NaN</td>\n      <td>NaN</td>\n      <td>3.0</td>\n      <td>NaN</td>\n      <td>NaN</td>\n      <td>NaN</td>\n      <td>NaN</td>\n      <td>NaN</td>\n      <td>...</td>\n      <td>NaN</td>\n      <td>NaN</td>\n      <td>NaN</td>\n      <td>NaN</td>\n      <td>NaN</td>\n      <td>NaN</td>\n      <td>NaN</td>\n      <td>NaN</td>\n      <td>NaN</td>\n      <td>NaN</td>\n    </tr>\n    <tr>\n      <th>226</th>\n      <td>3.5</td>\n      <td>3.0</td>\n      <td>3.5</td>\n      <td>NaN</td>\n      <td>4.0</td>\n      <td>NaN</td>\n      <td>4.5</td>\n      <td>3.5</td>\n      <td>NaN</td>\n      <td>2.0</td>\n      <td>...</td>\n      <td>NaN</td>\n      <td>NaN</td>\n      <td>NaN</td>\n      <td>NaN</td>\n      <td>NaN</td>\n      <td>NaN</td>\n      <td>NaN</td>\n      <td>NaN</td>\n      <td>NaN</td>\n      <td>NaN</td>\n    </tr>\n    <tr>\n      <th>390</th>\n      <td>NaN</td>\n      <td>NaN</td>\n      <td>NaN</td>\n      <td>NaN</td>\n      <td>NaN</td>\n      <td>NaN</td>\n      <td>NaN</td>\n      <td>NaN</td>\n      <td>NaN</td>\n      <td>NaN</td>\n      <td>...</td>\n      <td>NaN</td>\n      <td>NaN</td>\n      <td>NaN</td>\n      <td>NaN</td>\n      <td>NaN</td>\n      <td>NaN</td>\n      <td>NaN</td>\n      <td>NaN</td>\n      <td>NaN</td>\n      <td>NaN</td>\n    </tr>\n    <tr>\n      <th>405</th>\n      <td>NaN</td>\n      <td>NaN</td>\n      <td>NaN</td>\n      <td>NaN</td>\n      <td>NaN</td>\n      <td>NaN</td>\n      <td>4.0</td>\n      <td>NaN</td>\n      <td>NaN</td>\n      <td>NaN</td>\n      <td>...</td>\n      <td>NaN</td>\n      <td>NaN</td>\n      <td>NaN</td>\n      <td>NaN</td>\n      <td>NaN</td>\n      <td>NaN</td>\n      <td>NaN</td>\n      <td>NaN</td>\n      <td>NaN</td>\n      <td>NaN</td>\n    </tr>\n    <tr>\n      <th>432</th>\n      <td>2.5</td>\n      <td>4.0</td>\n      <td>NaN</td>\n      <td>NaN</td>\n      <td>NaN</td>\n      <td>NaN</td>\n      <td>NaN</td>\n      <td>2.0</td>\n      <td>NaN</td>\n      <td>NaN</td>\n      <td>...</td>\n      <td>NaN</td>\n      <td>NaN</td>\n      <td>NaN</td>\n      <td>NaN</td>\n      <td>NaN</td>\n      <td>NaN</td>\n      <td>NaN</td>\n      <td>NaN</td>\n      <td>NaN</td>\n      <td>NaN</td>\n    </tr>\n    <tr>\n      <th>435</th>\n      <td>NaN</td>\n      <td>NaN</td>\n      <td>NaN</td>\n      <td>NaN</td>\n      <td>NaN</td>\n      <td>NaN</td>\n      <td>NaN</td>\n      <td>NaN</td>\n      <td>NaN</td>\n      <td>NaN</td>\n      <td>...</td>\n      <td>NaN</td>\n      <td>NaN</td>\n      <td>NaN</td>\n      <td>NaN</td>\n      <td>NaN</td>\n      <td>NaN</td>\n      <td>NaN</td>\n      <td>NaN</td>\n      <td>NaN</td>\n      <td>NaN</td>\n    </tr>\n    <tr>\n      <th>436</th>\n      <td>4.0</td>\n      <td>4.0</td>\n      <td>NaN</td>\n      <td>3.0</td>\n      <td>NaN</td>\n      <td>NaN</td>\n      <td>NaN</td>\n      <td>NaN</td>\n      <td>NaN</td>\n      <td>NaN</td>\n      <td>...</td>\n      <td>NaN</td>\n      <td>NaN</td>\n      <td>NaN</td>\n      <td>NaN</td>\n      <td>NaN</td>\n      <td>NaN</td>\n      <td>NaN</td>\n      <td>NaN</td>\n      <td>NaN</td>\n      <td>NaN</td>\n    </tr>\n    <tr>\n      <th>563</th>\n      <td>NaN</td>\n      <td>2.5</td>\n      <td>NaN</td>\n      <td>NaN</td>\n      <td>NaN</td>\n      <td>NaN</td>\n      <td>NaN</td>\n      <td>NaN</td>\n      <td>NaN</td>\n      <td>NaN</td>\n      <td>...</td>\n      <td>3.5</td>\n      <td>3.0</td>\n      <td>3.5</td>\n      <td>NaN</td>\n      <td>4.5</td>\n      <td>4.5</td>\n      <td>4.0</td>\n      <td>3.5</td>\n      <td>3.5</td>\n      <td>NaN</td>\n    </tr>\n    <tr>\n      <th>583</th>\n      <td>NaN</td>\n      <td>NaN</td>\n      <td>NaN</td>\n      <td>NaN</td>\n      <td>NaN</td>\n      <td>NaN</td>\n      <td>NaN</td>\n      <td>NaN</td>\n      <td>NaN</td>\n      <td>NaN</td>\n      <td>...</td>\n      <td>NaN</td>\n      <td>NaN</td>\n      <td>NaN</td>\n      <td>4.0</td>\n      <td>NaN</td>\n      <td>NaN</td>\n      <td>NaN</td>\n      <td>NaN</td>\n      <td>NaN</td>\n      <td>4.0</td>\n    </tr>\n  </tbody>\n</table>\n<p>10 rows × 1079 columns</p>\n</div>"
     },
     "execution_count": 2,
     "metadata": {},
     "output_type": "execute_result"
    }
   ],
   "source": [
    "sub_df = pd.read_csv('Datasets/small_ratings.csv')\n",
    "wide_df = sub_df.pivot(index='userId', columns='movieId', values='rating')\n",
    "wide_df"
   ],
   "metadata": {
    "collapsed": false,
    "pycharm": {
     "name": "#%%\n"
    }
   }
  },
  {
   "cell_type": "code",
   "execution_count": 3,
   "outputs": [
    {
     "data": {
      "text/plain": "array([[15.32608696, 13.79347826, 14.30434783, ..., 14.30434783,\n        14.30434783, 16.34782609],\n       [ 5.        , 13.5       , 14.        , ..., 14.        ,\n        14.        , 16.        ],\n       [ 3.5       ,  3.        ,  3.5       , ..., 12.16715976,\n        12.16715976, 13.90532544],\n       ...,\n       [ 4.        ,  4.        , 11.12735849, ..., 11.12735849,\n        11.12735849, 12.71698113],\n       [12.37676056,  2.5       , 11.55164319, ...,  3.5       ,\n         3.5       , 13.20187793],\n       [12.35491071, 11.11941964, 11.53125   , ..., 11.53125   ,\n        11.53125   ,  4.        ]])"
     },
     "execution_count": 3,
     "metadata": {},
     "output_type": "execute_result"
    }
   ],
   "source": [
    "col_means = np.matrix(wide_df.mean().values)\n",
    "row_means = np.matrix(wide_df.mean(axis=1).values).T\n",
    "# Creating custom values to fill NaN in wide_df\n",
    "fill_matrix = np.dot(row_means, col_means)\n",
    "na_indx = wide_df.isna()\n",
    "wide_array = np.array(wide_df)\n",
    "fill_sub = np.array(fill_matrix[na_indx]).reshape(-1)\n",
    "wide_array[na_indx] = fill_sub\n",
    "wide_array"
   ],
   "metadata": {
    "collapsed": false,
    "pycharm": {
     "name": "#%%\n"
    }
   }
  },
  {
   "cell_type": "code",
   "execution_count": 4,
   "outputs": [],
   "source": [
    "Z = wide_array\n",
    "r = 20\n",
    "svd=TruncatedSVD(n_components=r)\n",
    "svd.fit(Z)\n",
    "Sigma2=np.diag(svd.singular_values_)\n",
    "VT=svd.components_\n",
    "W=svd.transform(Z) / svd.singular_values_\n",
    "H = np.dot(Sigma2,VT)"
   ],
   "metadata": {
    "collapsed": false,
    "pycharm": {
     "name": "#%%\n"
    }
   }
  },
  {
   "cell_type": "code",
   "execution_count": 5,
   "outputs": [],
   "source": [
    "U, Sigma, VT = randomized_svd(Z,\n",
    "                              n_components=15,\n",
    "                              n_iter=5,\n",
    "                              random_state=None)"
   ],
   "metadata": {
    "collapsed": false,
    "pycharm": {
     "name": "#%%\n"
    }
   }
  },
  {
   "cell_type": "code",
   "execution_count": 6,
   "outputs": [
    {
     "data": {
      "text/plain": "array([[15.32608696, 13.79347826, 14.30434783, ..., 14.30434783,\n        14.30434783, 16.34782609],\n       [ 5.        , 13.5       , 14.        , ..., 14.        ,\n        14.        , 16.        ],\n       [ 3.5       ,  3.        ,  3.5       , ..., 12.16715976,\n        12.16715976, 13.90532544],\n       ...,\n       [ 4.        ,  4.        , 11.12735849, ..., 11.12735849,\n        11.12735849, 12.71698113],\n       [12.37676056,  2.5       , 11.55164319, ...,  3.5       ,\n         3.5       , 13.20187793],\n       [12.35491071, 11.11941964, 11.53125   , ..., 11.53125   ,\n        11.53125   ,  4.        ]])"
     },
     "execution_count": 6,
     "metadata": {},
     "output_type": "execute_result"
    }
   ],
   "source": [
    "np.dot(np.dot(U, np.diag(Sigma)), VT)"
   ],
   "metadata": {
    "collapsed": false,
    "pycharm": {
     "name": "#%%\n"
    }
   }
  },
  {
   "cell_type": "code",
   "execution_count": 7,
   "outputs": [
    {
     "data": {
      "text/plain": "   userId  counts\n0      35      23\n1      46      42\n2     226     507\n3     390      81\n4     405     120\n5     432     260\n6     435      42\n7     436     106\n8     563     213\n9     583      56",
      "text/html": "<div>\n<style scoped>\n    .dataframe tbody tr th:only-of-type {\n        vertical-align: middle;\n    }\n\n    .dataframe tbody tr th {\n        vertical-align: top;\n    }\n\n    .dataframe thead th {\n        text-align: right;\n    }\n</style>\n<table border=\"1\" class=\"dataframe\">\n  <thead>\n    <tr style=\"text-align: right;\">\n      <th></th>\n      <th>userId</th>\n      <th>counts</th>\n    </tr>\n  </thead>\n  <tbody>\n    <tr>\n      <th>0</th>\n      <td>35</td>\n      <td>23</td>\n    </tr>\n    <tr>\n      <th>1</th>\n      <td>46</td>\n      <td>42</td>\n    </tr>\n    <tr>\n      <th>2</th>\n      <td>226</td>\n      <td>507</td>\n    </tr>\n    <tr>\n      <th>3</th>\n      <td>390</td>\n      <td>81</td>\n    </tr>\n    <tr>\n      <th>4</th>\n      <td>405</td>\n      <td>120</td>\n    </tr>\n    <tr>\n      <th>5</th>\n      <td>432</td>\n      <td>260</td>\n    </tr>\n    <tr>\n      <th>6</th>\n      <td>435</td>\n      <td>42</td>\n    </tr>\n    <tr>\n      <th>7</th>\n      <td>436</td>\n      <td>106</td>\n    </tr>\n    <tr>\n      <th>8</th>\n      <td>563</td>\n      <td>213</td>\n    </tr>\n    <tr>\n      <th>9</th>\n      <td>583</td>\n      <td>56</td>\n    </tr>\n  </tbody>\n</table>\n</div>"
     },
     "execution_count": 7,
     "metadata": {},
     "output_type": "execute_result"
    }
   ],
   "source": [
    "sub_df.groupby('userId').size().reset_index(name='counts')"
   ],
   "metadata": {
    "collapsed": false,
    "pycharm": {
     "name": "#%%\n"
    }
   }
  },
  {
   "cell_type": "code",
   "execution_count": 38,
   "outputs": [],
   "source": [
    "from sklearn.model_selection import train_test_split\n",
    "\n",
    "xtrain, xtest = train_test_split(sub_df, train_size=0.90, stratify=sub_df['userId'])"
   ],
   "metadata": {
    "collapsed": false,
    "pycharm": {
     "name": "#%%\n"
    }
   }
  },
  {
   "cell_type": "code",
   "source": [
    "xtrain.groupby('userId').size().reset_index(name='counts')\n",
    "xtest.groupby('userId').size().reset_index(name='counts')\n",
    "xtrain.drop('Unnamed: 0', inplace=True, axis=1)\n",
    "xtest.drop('Unnamed: 0', inplace=True, axis=1)"
   ],
   "metadata": {
    "collapsed": false,
    "pycharm": {
     "name": "#%%\n"
    }
   },
   "execution_count": 39,
   "outputs": []
  },
  {
   "cell_type": "code",
   "execution_count": 81,
   "outputs": [],
   "source": [
    "train_wide = xtrain.pivot(index='userId', columns='movieId', values='rating')\n",
    "test_wide = xtest.pivot(index='userId', columns='movieId', values='rating')\n",
    "test_array = np.array(test_wide.to_records(index=False))"
   ],
   "metadata": {
    "collapsed": false,
    "pycharm": {
     "name": "#%%\n"
    }
   }
  },
  {
   "cell_type": "code",
   "execution_count": 82,
   "outputs": [
    {
     "data": {
      "text/plain": "        1       2       3       10      11      16      19      21      \\\nuserId                                                                   \n35         NaN     NaN     NaN     NaN     4.0     NaN     NaN     5.0   \n46         5.0     NaN     NaN     3.0     NaN     NaN     NaN     NaN   \n226        NaN     3.0     3.5     4.0     NaN     NaN     3.5     NaN   \n390        NaN     NaN     NaN     NaN     NaN     NaN     NaN     NaN   \n405        NaN     NaN     NaN     NaN     NaN     4.0     NaN     NaN   \n432        2.5     4.0     NaN     NaN     NaN     NaN     2.0     NaN   \n435        NaN     NaN     NaN     NaN     NaN     NaN     NaN     NaN   \n436        4.0     4.0     NaN     NaN     NaN     NaN     NaN     NaN   \n563        NaN     NaN     NaN     NaN     NaN     NaN     NaN     NaN   \n583        NaN     NaN     NaN     NaN     NaN     NaN     NaN     NaN   \n\n        25      32      ...  68135   72011   84152   84189   97921   99117   \\\nuserId                  ...                                                   \n35         NaN     NaN  ...     NaN     NaN     NaN     NaN     NaN     NaN   \n46         NaN     4.0  ...     NaN     NaN     NaN     NaN     NaN     NaN   \n226        NaN     4.0  ...     NaN     NaN     NaN     NaN     NaN     NaN   \n390        NaN     NaN  ...     NaN     NaN     NaN     NaN     NaN     NaN   \n405        4.0     4.5  ...     NaN     NaN     NaN     NaN     NaN     NaN   \n432        4.5     NaN  ...     NaN     NaN     NaN     NaN     NaN     NaN   \n435        NaN     NaN  ...     NaN     NaN     NaN     NaN     NaN     NaN   \n436        NaN     NaN  ...     NaN     NaN     NaN     NaN     NaN     NaN   \n563        NaN     NaN  ...     NaN     NaN     NaN     NaN     NaN     NaN   \n583        NaN     NaN  ...     NaN     NaN     NaN     NaN     NaN     NaN   \n\n        114662  119145  133419  149354  \nuserId                                  \n35         NaN     NaN     NaN     NaN  \n46         NaN     NaN     NaN     NaN  \n226        NaN     NaN     NaN     NaN  \n390        NaN     NaN     NaN     NaN  \n405        NaN     NaN     NaN     NaN  \n432        NaN     NaN     NaN     NaN  \n435        NaN     NaN     NaN     NaN  \n436        NaN     NaN     NaN     NaN  \n563        NaN     NaN     NaN     NaN  \n583        NaN     NaN     NaN     NaN  \n\n[10 rows x 1079 columns]",
      "text/html": "<div>\n<style scoped>\n    .dataframe tbody tr th:only-of-type {\n        vertical-align: middle;\n    }\n\n    .dataframe tbody tr th {\n        vertical-align: top;\n    }\n\n    .dataframe thead th {\n        text-align: right;\n    }\n</style>\n<table border=\"1\" class=\"dataframe\">\n  <thead>\n    <tr style=\"text-align: right;\">\n      <th></th>\n      <th>1</th>\n      <th>2</th>\n      <th>3</th>\n      <th>10</th>\n      <th>11</th>\n      <th>16</th>\n      <th>19</th>\n      <th>21</th>\n      <th>25</th>\n      <th>32</th>\n      <th>...</th>\n      <th>68135</th>\n      <th>72011</th>\n      <th>84152</th>\n      <th>84189</th>\n      <th>97921</th>\n      <th>99117</th>\n      <th>114662</th>\n      <th>119145</th>\n      <th>133419</th>\n      <th>149354</th>\n    </tr>\n    <tr>\n      <th>userId</th>\n      <th></th>\n      <th></th>\n      <th></th>\n      <th></th>\n      <th></th>\n      <th></th>\n      <th></th>\n      <th></th>\n      <th></th>\n      <th></th>\n      <th></th>\n      <th></th>\n      <th></th>\n      <th></th>\n      <th></th>\n      <th></th>\n      <th></th>\n      <th></th>\n      <th></th>\n      <th></th>\n      <th></th>\n    </tr>\n  </thead>\n  <tbody>\n    <tr>\n      <th>35</th>\n      <td>NaN</td>\n      <td>NaN</td>\n      <td>NaN</td>\n      <td>NaN</td>\n      <td>4.0</td>\n      <td>NaN</td>\n      <td>NaN</td>\n      <td>5.0</td>\n      <td>NaN</td>\n      <td>NaN</td>\n      <td>...</td>\n      <td>NaN</td>\n      <td>NaN</td>\n      <td>NaN</td>\n      <td>NaN</td>\n      <td>NaN</td>\n      <td>NaN</td>\n      <td>NaN</td>\n      <td>NaN</td>\n      <td>NaN</td>\n      <td>NaN</td>\n    </tr>\n    <tr>\n      <th>46</th>\n      <td>5.0</td>\n      <td>NaN</td>\n      <td>NaN</td>\n      <td>3.0</td>\n      <td>NaN</td>\n      <td>NaN</td>\n      <td>NaN</td>\n      <td>NaN</td>\n      <td>NaN</td>\n      <td>4.0</td>\n      <td>...</td>\n      <td>NaN</td>\n      <td>NaN</td>\n      <td>NaN</td>\n      <td>NaN</td>\n      <td>NaN</td>\n      <td>NaN</td>\n      <td>NaN</td>\n      <td>NaN</td>\n      <td>NaN</td>\n      <td>NaN</td>\n    </tr>\n    <tr>\n      <th>226</th>\n      <td>NaN</td>\n      <td>3.0</td>\n      <td>3.5</td>\n      <td>4.0</td>\n      <td>NaN</td>\n      <td>NaN</td>\n      <td>3.5</td>\n      <td>NaN</td>\n      <td>NaN</td>\n      <td>4.0</td>\n      <td>...</td>\n      <td>NaN</td>\n      <td>NaN</td>\n      <td>NaN</td>\n      <td>NaN</td>\n      <td>NaN</td>\n      <td>NaN</td>\n      <td>NaN</td>\n      <td>NaN</td>\n      <td>NaN</td>\n      <td>NaN</td>\n    </tr>\n    <tr>\n      <th>390</th>\n      <td>NaN</td>\n      <td>NaN</td>\n      <td>NaN</td>\n      <td>NaN</td>\n      <td>NaN</td>\n      <td>NaN</td>\n      <td>NaN</td>\n      <td>NaN</td>\n      <td>NaN</td>\n      <td>NaN</td>\n      <td>...</td>\n      <td>NaN</td>\n      <td>NaN</td>\n      <td>NaN</td>\n      <td>NaN</td>\n      <td>NaN</td>\n      <td>NaN</td>\n      <td>NaN</td>\n      <td>NaN</td>\n      <td>NaN</td>\n      <td>NaN</td>\n    </tr>\n    <tr>\n      <th>405</th>\n      <td>NaN</td>\n      <td>NaN</td>\n      <td>NaN</td>\n      <td>NaN</td>\n      <td>NaN</td>\n      <td>4.0</td>\n      <td>NaN</td>\n      <td>NaN</td>\n      <td>4.0</td>\n      <td>4.5</td>\n      <td>...</td>\n      <td>NaN</td>\n      <td>NaN</td>\n      <td>NaN</td>\n      <td>NaN</td>\n      <td>NaN</td>\n      <td>NaN</td>\n      <td>NaN</td>\n      <td>NaN</td>\n      <td>NaN</td>\n      <td>NaN</td>\n    </tr>\n    <tr>\n      <th>432</th>\n      <td>2.5</td>\n      <td>4.0</td>\n      <td>NaN</td>\n      <td>NaN</td>\n      <td>NaN</td>\n      <td>NaN</td>\n      <td>2.0</td>\n      <td>NaN</td>\n      <td>4.5</td>\n      <td>NaN</td>\n      <td>...</td>\n      <td>NaN</td>\n      <td>NaN</td>\n      <td>NaN</td>\n      <td>NaN</td>\n      <td>NaN</td>\n      <td>NaN</td>\n      <td>NaN</td>\n      <td>NaN</td>\n      <td>NaN</td>\n      <td>NaN</td>\n    </tr>\n    <tr>\n      <th>435</th>\n      <td>NaN</td>\n      <td>NaN</td>\n      <td>NaN</td>\n      <td>NaN</td>\n      <td>NaN</td>\n      <td>NaN</td>\n      <td>NaN</td>\n      <td>NaN</td>\n      <td>NaN</td>\n      <td>NaN</td>\n      <td>...</td>\n      <td>NaN</td>\n      <td>NaN</td>\n      <td>NaN</td>\n      <td>NaN</td>\n      <td>NaN</td>\n      <td>NaN</td>\n      <td>NaN</td>\n      <td>NaN</td>\n      <td>NaN</td>\n      <td>NaN</td>\n    </tr>\n    <tr>\n      <th>436</th>\n      <td>4.0</td>\n      <td>4.0</td>\n      <td>NaN</td>\n      <td>NaN</td>\n      <td>NaN</td>\n      <td>NaN</td>\n      <td>NaN</td>\n      <td>NaN</td>\n      <td>NaN</td>\n      <td>NaN</td>\n      <td>...</td>\n      <td>NaN</td>\n      <td>NaN</td>\n      <td>NaN</td>\n      <td>NaN</td>\n      <td>NaN</td>\n      <td>NaN</td>\n      <td>NaN</td>\n      <td>NaN</td>\n      <td>NaN</td>\n      <td>NaN</td>\n    </tr>\n    <tr>\n      <th>563</th>\n      <td>NaN</td>\n      <td>NaN</td>\n      <td>NaN</td>\n      <td>NaN</td>\n      <td>NaN</td>\n      <td>NaN</td>\n      <td>NaN</td>\n      <td>NaN</td>\n      <td>NaN</td>\n      <td>NaN</td>\n      <td>...</td>\n      <td>NaN</td>\n      <td>NaN</td>\n      <td>NaN</td>\n      <td>NaN</td>\n      <td>NaN</td>\n      <td>NaN</td>\n      <td>NaN</td>\n      <td>NaN</td>\n      <td>NaN</td>\n      <td>NaN</td>\n    </tr>\n    <tr>\n      <th>583</th>\n      <td>NaN</td>\n      <td>NaN</td>\n      <td>NaN</td>\n      <td>NaN</td>\n      <td>NaN</td>\n      <td>NaN</td>\n      <td>NaN</td>\n      <td>NaN</td>\n      <td>NaN</td>\n      <td>NaN</td>\n      <td>...</td>\n      <td>NaN</td>\n      <td>NaN</td>\n      <td>NaN</td>\n      <td>NaN</td>\n      <td>NaN</td>\n      <td>NaN</td>\n      <td>NaN</td>\n      <td>NaN</td>\n      <td>NaN</td>\n      <td>NaN</td>\n    </tr>\n  </tbody>\n</table>\n<p>10 rows × 1079 columns</p>\n</div>"
     },
     "execution_count": 82,
     "metadata": {},
     "output_type": "execute_result"
    }
   ],
   "source": [
    "# Movie ids in the whole dataset\n",
    "movies_ids = np.unique(sub_df.movieId)\n",
    "# Movie ids in the training dataset\n",
    "movies_ids_train =np.unique(xtrain.movieId)\n",
    "if_in_training_vec = pd.DataFrame(movies_ids).isin(movies_ids_train)\n",
    "movies_ids_df = pd.DataFrame(movies_ids)\n",
    "# Movie ids that are not in training data\n",
    "movie_ids_miss = np.array(movies_ids_df.iloc[np.array(~if_in_training_vec)]).reshape(-1)\n",
    "nas_array = np.empty((train_wide.shape[0],movie_ids_miss.shape[0],))\n",
    "nas_array[:] = np.nan\n",
    "missing_df = pd.DataFrame(nas_array)\n",
    "missing_df.columns = movie_ids_miss\n",
    "missing_df.index = train_wide.index\n",
    "train_df = pd.concat([train_wide, missing_df], axis=1)\n",
    "train_df"
   ],
   "metadata": {
    "collapsed": false,
    "pycharm": {
     "name": "#%%\n"
    }
   }
  },
  {
   "cell_type": "code",
   "execution_count": null,
   "outputs": [],
   "source": [],
   "metadata": {
    "collapsed": false,
    "pycharm": {
     "name": "#%%\n"
    }
   }
  }
 ],
 "metadata": {
  "kernelspec": {
   "display_name": "Python 3",
   "language": "python",
   "name": "python3"
  },
  "language_info": {
   "codemirror_mode": {
    "name": "ipython",
    "version": 2
   },
   "file_extension": ".py",
   "mimetype": "text/x-python",
   "name": "python",
   "nbconvert_exporter": "python",
   "pygments_lexer": "ipython2",
   "version": "2.7.6"
  }
 },
 "nbformat": 4,
 "nbformat_minor": 0
}